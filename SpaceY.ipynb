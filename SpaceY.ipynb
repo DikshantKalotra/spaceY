{
    "cells": [
        {
            "metadata": {},
            "cell_type": "code",
            "source": "print(\"In Watson Studio\")",
            "execution_count": 1,
            "outputs": [
                {
                    "output_type": "stream",
                    "text": "In Watson Studio\n",
                    "name": "stdout"
                }
            ]
        }
    ],
    "metadata": {
        "kernelspec": {
            "name": "python3",
            "display_name": "Python 3.10",
            "language": "python"
        },
        "language_info": {
            "name": "python",
            "version": "3.10.6",
            "mimetype": "text/x-python",
            "codemirror_mode": {
                "name": "ipython",
                "version": 3
            },
            "pygments_lexer": "ipython3",
            "nbconvert_exporter": "python",
            "file_extension": ".py"
        }
    },
    "nbformat": 4,
    "nbformat_minor": 1
}